{
  "nbformat": 4,
  "nbformat_minor": 0,
  "metadata": {
    "colab": {
      "provenance": [],
      "machine_shape": "hm",
      "gpuType": "T4",
      "authorship_tag": "ABX9TyOIoPABp17lFRWP35jqJ407",
      "include_colab_link": true
    },
    "kernelspec": {
      "name": "python3",
      "display_name": "Python 3"
    },
    "language_info": {
      "name": "python"
    },
    "accelerator": "GPU"
  },
  "cells": [
    {
      "cell_type": "markdown",
      "metadata": {
        "id": "view-in-github",
        "colab_type": "text"
      },
      "source": [
        "<a href=\"https://colab.research.google.com/github/hyojgun/hyojeong/blob/main/Auto_encoder.ipynb\" target=\"_parent\"><img src=\"https://colab.research.google.com/assets/colab-badge.svg\" alt=\"Open In Colab\"/></a>"
      ]
    },
    {
      "cell_type": "code",
      "execution_count": 2,
      "metadata": {
        "id": "wxpKjMtJTS70"
      },
      "outputs": [],
      "source": [
        "import matplotlib.pyplot as plt\n",
        "import numpy as np\n",
        "import torch\n",
        "\n",
        "from torchvision.datasets.mnist import MNIST\n",
        "from torchvision.transforms import ToTensor\n",
        "\n",
        "\n",
        "def gaussian_noise(x, scale=0.8):\n",
        "  gaussian_data_x = x+ np.random.normal(\n",
        "      loc =0,\n",
        "      scale= scale,\n",
        "      size = x.shape\n",
        "  )\n",
        "\n",
        "  gaussian_data_x = np.clip(\n",
        "      gaussian_data_x,0,1\n",
        "  )\n",
        "\n",
        "  gaussian_data_x = torch.tensor(gaussian_data_x)\n",
        "  gaussian_data_x = gaussian_data_x.type(torch.FloatTensor)\n",
        "  return gaussian_data_x\n",
        "\n"
      ]
    },
    {
      "cell_type": "code",
      "source": [
        "training_data = MNIST(\n",
        "    root =\"./\",\n",
        "    train = True,\n",
        "    download = True,\n",
        "    transform = ToTensor()\n",
        ")\n",
        "\n",
        "test_data = MNIST(\n",
        "    root =\"./\",\n",
        "    train = False,\n",
        "    download = True,\n",
        "    transform = ToTensor()\n",
        ")\n",
        "\n",
        "img = training_data.data[2]\n",
        "\n",
        "gaussian = gaussian_noise(img)\n",
        "\n",
        "plt.subplot(1,2,1)\n",
        "plt.title('original')\n",
        "plt.imshow(img)\n",
        "\n",
        "plt.subplot(1,2,2)\n",
        "plt.title('noisy')\n",
        "plt.imshow(gaussian)\n",
        "\n",
        "plt.show()"
      ],
      "metadata": {
        "colab": {
          "base_uri": "https://localhost:8080/",
          "height": 1000
        },
        "id": "xi68xr3XUdsX",
        "outputId": "5b3776cc-4ff8-44c0-cbce-6bfa0c334e2e"
      },
      "execution_count": 3,
      "outputs": [
        {
          "output_type": "stream",
          "name": "stdout",
          "text": [
            "Downloading http://yann.lecun.com/exdb/mnist/train-images-idx3-ubyte.gz\n",
            "Failed to download (trying next):\n",
            "<urlopen error [SSL: CERTIFICATE_VERIFY_FAILED] certificate verify failed: certificate has expired (_ssl.c:1007)>\n",
            "\n",
            "Downloading https://ossci-datasets.s3.amazonaws.com/mnist/train-images-idx3-ubyte.gz\n",
            "Downloading https://ossci-datasets.s3.amazonaws.com/mnist/train-images-idx3-ubyte.gz to ./MNIST/raw/train-images-idx3-ubyte.gz\n"
          ]
        },
        {
          "output_type": "stream",
          "name": "stderr",
          "text": [
            "100%|██████████| 9.91M/9.91M [00:01<00:00, 5.81MB/s]\n"
          ]
        },
        {
          "output_type": "stream",
          "name": "stdout",
          "text": [
            "Extracting ./MNIST/raw/train-images-idx3-ubyte.gz to ./MNIST/raw\n",
            "\n",
            "Downloading http://yann.lecun.com/exdb/mnist/train-labels-idx1-ubyte.gz\n",
            "Failed to download (trying next):\n",
            "<urlopen error [SSL: CERTIFICATE_VERIFY_FAILED] certificate verify failed: certificate has expired (_ssl.c:1007)>\n",
            "\n",
            "Downloading https://ossci-datasets.s3.amazonaws.com/mnist/train-labels-idx1-ubyte.gz\n",
            "Downloading https://ossci-datasets.s3.amazonaws.com/mnist/train-labels-idx1-ubyte.gz to ./MNIST/raw/train-labels-idx1-ubyte.gz\n"
          ]
        },
        {
          "output_type": "stream",
          "name": "stderr",
          "text": [
            "100%|██████████| 28.9k/28.9k [00:00<00:00, 153kB/s]\n"
          ]
        },
        {
          "output_type": "stream",
          "name": "stdout",
          "text": [
            "Extracting ./MNIST/raw/train-labels-idx1-ubyte.gz to ./MNIST/raw\n",
            "\n",
            "Downloading http://yann.lecun.com/exdb/mnist/t10k-images-idx3-ubyte.gz\n",
            "Failed to download (trying next):\n",
            "<urlopen error [SSL: CERTIFICATE_VERIFY_FAILED] certificate verify failed: certificate has expired (_ssl.c:1007)>\n",
            "\n",
            "Downloading https://ossci-datasets.s3.amazonaws.com/mnist/t10k-images-idx3-ubyte.gz\n",
            "Downloading https://ossci-datasets.s3.amazonaws.com/mnist/t10k-images-idx3-ubyte.gz to ./MNIST/raw/t10k-images-idx3-ubyte.gz\n"
          ]
        },
        {
          "output_type": "stream",
          "name": "stderr",
          "text": [
            "100%|██████████| 1.65M/1.65M [00:01<00:00, 1.45MB/s]\n"
          ]
        },
        {
          "output_type": "stream",
          "name": "stdout",
          "text": [
            "Extracting ./MNIST/raw/t10k-images-idx3-ubyte.gz to ./MNIST/raw\n",
            "\n",
            "Downloading http://yann.lecun.com/exdb/mnist/t10k-labels-idx1-ubyte.gz\n",
            "Failed to download (trying next):\n",
            "<urlopen error [SSL: CERTIFICATE_VERIFY_FAILED] certificate verify failed: certificate has expired (_ssl.c:1007)>\n",
            "\n",
            "Downloading https://ossci-datasets.s3.amazonaws.com/mnist/t10k-labels-idx1-ubyte.gz\n",
            "Downloading https://ossci-datasets.s3.amazonaws.com/mnist/t10k-labels-idx1-ubyte.gz to ./MNIST/raw/t10k-labels-idx1-ubyte.gz\n"
          ]
        },
        {
          "output_type": "stream",
          "name": "stderr",
          "text": [
            "100%|██████████| 4.54k/4.54k [00:00<00:00, 9.69MB/s]\n",
            "<ipython-input-2-9a0d33a276c2>:20: UserWarning: To copy construct from a tensor, it is recommended to use sourceTensor.clone().detach() or sourceTensor.clone().detach().requires_grad_(True), rather than torch.tensor(sourceTensor).\n",
            "  gaussian_data_x = torch.tensor(gaussian_data_x)\n"
          ]
        },
        {
          "output_type": "stream",
          "name": "stdout",
          "text": [
            "Extracting ./MNIST/raw/t10k-labels-idx1-ubyte.gz to ./MNIST/raw\n",
            "\n"
          ]
        },
        {
          "output_type": "display_data",
          "data": {
            "text/plain": [
              "<Figure size 640x480 with 2 Axes>"
            ],
            "image/png": "[encoded data removed]"
          },
          "metadata": {}
        }
      ]
    },
    {
      "cell_type": "code",
      "source": [
        "from torch.utils.data.dataset import Dataset\n",
        "\n",
        "\n",
        "class Denoising(Dataset):\n",
        "  def __init__(self):\n",
        "    self.mnist = MNIST(\n",
        "        root =\"./\",\n",
        "        train = True,\n",
        "        download = True,\n",
        "        transform = ToTensor()\n",
        "    )\n",
        "    self.data = []\n",
        "\n",
        "    for i in range(len(self.mnist)):\n",
        "      noisy_input = gaussian_noise(self.mnist.data[i])\n",
        "      input_tensor = torch.tensor(noisy_input)\n",
        "      self.data.append(torch.unsqueeze(input_tensor,dim= 0))\n",
        "\n",
        "\n",
        "  def __len__(self):\n",
        "    return len(self.data)\n",
        "\n",
        "  def __getitem__(self, i):\n",
        "   data = self.data[i]\n",
        "\n",
        "   label = self.mnist.data[i]/255\n",
        "\n",
        "   return data, label\n",
        "\n"
      ],
      "metadata": {
        "id": "Z_IvJuU7VC3l"
      },
      "execution_count": 4,
      "outputs": []
    },
    {
      "cell_type": "code",
      "source": [
        "import torch.nn as nn\n",
        "\n",
        "class BasicBlock(nn.Module):\n",
        "  def __init__(self, in_channels, out_channels, hidden_dim):\n",
        "    super(BasicBlock, self).__init__()\n",
        "\n",
        "    self.conv1 = nn.Conv2d(\n",
        "        in_channels,\n",
        "        hidden_dim,\n",
        "        kernel_size = 3,\n",
        "        padding = 1\n",
        "    )\n",
        "\n",
        "    self.conv2 = nn.Conv2d(\n",
        "        hidden_dim,\n",
        "        out_channels,\n",
        "        kernel_size = 3,\n",
        "        padding = 1\n",
        "    )\n",
        "\n",
        "    self.relu = nn.ReLU()\n",
        "\n",
        "  def forward(self, x):\n",
        "    x = self.conv1(x)\n",
        "    x = self.relu(x)\n",
        "    x = self.conv2(x)\n",
        "    x = self.relu(x)\n",
        "\n",
        "    return x\n",
        "\n",
        "\n",
        "\n",
        "\n",
        "\n",
        "\n",
        "class Encoder(nn.Module):\n",
        "  def __init__(self):\n",
        "    super(Encoder, self).__init__()\n",
        "\n",
        "    self.conv1 = BasicBlock(in_channels=1, out_channels=16, hidden_dim =16)\n",
        "    self.conv2 = BasicBlock(in_channels=16, out_channels=8, hidden_dim =8)\n",
        "\n",
        "    self.pool = nn.AvgPool2d(kernel_size=2,stride =2)\n",
        "\n",
        "  def forward(self, x):\n",
        "    x = self.conv1(x)\n",
        "    x = self.pool(x)\n",
        "    x = self.conv2(x)\n",
        "    x = self.pool(x)\n",
        "\n",
        "    return x\n",
        "\n",
        "\n",
        "class Decoder(nn.Module):\n",
        "  def __init__(self):\n",
        "    super(Decoder, self).__init__()\n",
        "    self.conv1 = BasicBlock(in_channels=8, out_channels=8, hidden_dim =8)\n",
        "    self.conv2 = BasicBlock(in_channels=8, out_channels=16, hidden_dim =16)\n",
        "\n",
        "    self.conv3 = nn.Conv2d(in_channels = 16,out_channels=1, kernel_size =3, padding=1)\n",
        "\n",
        "    self.upsample1 = nn.ConvTranspose2d(8,8,kernel_size=2,stride=2)\n",
        "    self.upsample2 = nn.ConvTranspose2d(16,16,kernel_size=2,stride=2)\n",
        "\n",
        "  def forward(self,x):\n",
        "    x = self.conv1(x)\n",
        "    x = self.upsample1(x)\n",
        "    x = self.conv2(x)\n",
        "    x = self.upsample2(x)\n",
        "    x = self.conv3(x)\n",
        "\n",
        "    return x\n",
        "\n",
        "class CAE(nn.Module):\n",
        "  def __init__(self):\n",
        "    super(CAE, self).__init__()\n",
        "    self.enc = Encoder()\n",
        "    self.dec = Decoder()\n",
        "\n",
        "  def forward(self, x):\n",
        "    x = self.enc(x)\n",
        "    x = self.dec(x)\n",
        "    x = torch.squeeze(x)\n",
        "\n",
        "    return x\n",
        "\n"
      ],
      "metadata": {
        "id": "yFfiJ2qiWCf0"
      },
      "execution_count": 9,
      "outputs": []
    },
    {
      "cell_type": "code",
      "source": [
        "import tqdm\n",
        "from torch.utils.data.dataloader import DataLoader\n",
        "from torch.optim.adam import Adam\n",
        "\n",
        "\n",
        "device = torch.device(\"mps\") if torch.backends.mps.is_available() else (\n",
        "    torch.device(\"cuda\") if torch.cuda.is_available() else torch.device(\"cpu\")\n",
        ")\n",
        "\n",
        "trainset = Denoising()\n",
        "train_loader = DataLoader(\n",
        "    trainset,\n",
        "    batch_size = 32)\n",
        "\n",
        "model = CAE().to(device)\n",
        "\n",
        "\n",
        "lr = 0.001\n",
        "optim = Adam(params=model.parameters(), lr=lr)\n",
        "\n",
        "for epoch in range(20):\n",
        "  iterator = tqdm.tqdm(train_loader)\n",
        "\n",
        "  for data, label in iterator:\n",
        "    optim.zero_grad()\n",
        "    pred = model(data.to(device))\n",
        "\n",
        "    loss = nn.MSELoss()(torch.squeeze(pred), label.to(device))\n",
        "    loss.backward()\n",
        "    optim.step()\n",
        "    iterator.set_description(f\"epoch:{epoch+1} loss:{loss.item()}\")\n",
        "\n",
        "torch.save(model.state_dict(), \"./CAE.pth\")\n"
      ],
      "metadata": {
        "colab": {
          "base_uri": "https://localhost:8080/"
        },
        "id": "e_JINZOxW1Pw",
        "outputId": "3bf8bd30-c67a-46d4-9258-8209d65b0235"
      },
      "execution_count": 10,
      "outputs": [
        {
          "output_type": "stream",
          "name": "stderr",
          "text": [
            "<ipython-input-2-9a0d33a276c2>:20: UserWarning: To copy construct from a tensor, it is recommended to use sourceTensor.clone().detach() or sourceTensor.clone().detach().requires_grad_(True), rather than torch.tensor(sourceTensor).\n",
            "  gaussian_data_x = torch.tensor(gaussian_data_x)\n",
            "<ipython-input-4-847275e1694e>:16: UserWarning: To copy construct from a tensor, it is recommended to use sourceTensor.clone().detach() or sourceTensor.clone().detach().requires_grad_(True), rather than torch.tensor(sourceTensor).\n",
            "  input_tensor = torch.tensor(noisy_input)\n",
            "epoch:1 loss:0.014830932952463627: 100%|██████████| 1875/1875 [00:13<00:00, 141.19it/s]\n",
            "epoch:2 loss:0.012081146240234375: 100%|██████████| 1875/1875 [00:12<00:00, 154.20it/s]\n",
            "epoch:3 loss:0.01126804854720831: 100%|██████████| 1875/1875 [00:12<00:00, 156.24it/s]\n",
            "epoch:4 loss:0.010619854554533958: 100%|██████████| 1875/1875 [00:11<00:00, 158.79it/s]\n",
            "epoch:5 loss:0.01015410851687193: 100%|██████████| 1875/1875 [00:11<00:00, 156.96it/s]\n",
            "epoch:6 loss:0.009802299551665783: 100%|██████████| 1875/1875 [00:11<00:00, 159.06it/s]\n",
            "epoch:7 loss:0.009767953306436539: 100%|██████████| 1875/1875 [00:11<00:00, 158.75it/s]\n",
            "epoch:8 loss:0.009197259321808815: 100%|██████████| 1875/1875 [00:11<00:00, 160.19it/s]\n",
            "epoch:9 loss:0.008771413005888462: 100%|██████████| 1875/1875 [00:11<00:00, 160.65it/s]\n",
            "epoch:10 loss:0.008713324554264545: 100%|██████████| 1875/1875 [00:11<00:00, 161.27it/s]\n",
            "epoch:11 loss:0.007918240502476692: 100%|██████████| 1875/1875 [00:11<00:00, 160.67it/s]\n",
            "epoch:12 loss:0.007653598673641682: 100%|██████████| 1875/1875 [00:11<00:00, 161.48it/s]\n",
            "epoch:13 loss:0.007497996091842651: 100%|██████████| 1875/1875 [00:11<00:00, 159.55it/s]\n",
            "epoch:14 loss:0.0074858032166957855: 100%|██████████| 1875/1875 [00:11<00:00, 159.42it/s]\n",
            "epoch:15 loss:0.0074487230740487576: 100%|██████████| 1875/1875 [00:11<00:00, 159.59it/s]\n",
            "epoch:16 loss:0.007521983236074448: 100%|██████████| 1875/1875 [00:11<00:00, 160.28it/s]\n",
            "epoch:17 loss:0.00747688440605998: 100%|██████████| 1875/1875 [00:11<00:00, 161.25it/s]\n",
            "epoch:18 loss:0.0074180602096021175: 100%|██████████| 1875/1875 [00:11<00:00, 161.12it/s]\n",
            "epoch:19 loss:0.007319358177483082: 100%|██████████| 1875/1875 [00:11<00:00, 159.48it/s]\n",
            "epoch:20 loss:0.007420709822326899: 100%|██████████| 1875/1875 [00:11<00:00, 160.30it/s]\n"
          ]
        }
      ]
    },
    {
      "cell_type": "code",
      "source": [
        "model.cpu()\n",
        "\n",
        "with torch.no_grad():\n",
        "  model.load_state_dict(torch.load(\"./CAE.pth\", map_location = device))\n",
        "\n",
        "  img = test_data.data[2]\n",
        "  gaussian = gaussian_noise(img)\n",
        "\n",
        "\n",
        "  input = torch.unsqueeze(gaussian, dim=0)\n",
        "  input.type(torch.FloatTensor)\n",
        "  input.to(device)\n",
        "  input= torch.unsqueeze(input, dim=0)\n",
        "\n",
        "  plt.subplot(1,3,1)\n",
        "  plt.imshow(torch.squeeze(gaussian))\n",
        "  plt.title('noisy')\n",
        "\n",
        "  plt.subplot(1,3,2)\n",
        "  plt.imshow(torch.squeeze(model(input)))\n",
        "  plt.title('denoised')\n",
        "\n",
        "  plt.subplot(1,3,3)\n",
        "  plt.imshow(torch.squeeze(img))\n",
        "  plt.title('original')\n",
        "\n",
        "  plt.show()\n",
        "\n"
      ],
      "metadata": {
        "colab": {
          "base_uri": "https://localhost:8080/",
          "height": 319
        },
        "id": "zWN0gmy_YW3D",
        "outputId": "37192810-9219-4562-ffa4-8e0e176773d3"
      },
      "execution_count": 13,
      "outputs": [
        {
          "output_type": "stream",
          "name": "stderr",
          "text": [
            "<ipython-input-13-e3f9b60f6882>:4: FutureWarning: You are using `torch.load` with `weights_only=False` (the current default value), which uses the default pickle module implicitly. It is possible to construct malicious pickle data which will execute arbitrary code during unpickling (See https://github.com/pytorch/pytorch/blob/main/SECURITY.md#untrusted-models for more details). In a future release, the default value for `weights_only` will be flipped to `True`. This limits the functions that could be executed during unpickling. Arbitrary objects will no longer be allowed to be loaded via this mode unless they are explicitly allowlisted by the user via `torch.serialization.add_safe_globals`. We recommend you start setting `weights_only=True` for any use case where you don't have full control of the loaded file. Please open an issue on GitHub for any issues related to this experimental feature.\n",
            "  model.load_state_dict(torch.load(\"./CAE.pth\", map_location = device))\n",
            "<ipython-input-2-9a0d33a276c2>:20: UserWarning: To copy construct from a tensor, it is recommended to use sourceTensor.clone().detach() or sourceTensor.clone().detach().requires_grad_(True), rather than torch.tensor(sourceTensor).\n",
            "  gaussian_data_x = torch.tensor(gaussian_data_x)\n"
          ]
        },
        {
          "output_type": "display_data",
          "data": {
            "text/plain": [
              "<Figure size 640x480 with 3 Axes>"
            ],
            "image/png": "[encoded data removed]"
          },
          "metadata": {}
        }
      ]
    },
    {
      "cell_type": "code",
      "source": [],
      "metadata": {
        "id": "KWgSZZBgmVg-"
      },
      "execution_count": null,
      "outputs": []
    }
  ]
}